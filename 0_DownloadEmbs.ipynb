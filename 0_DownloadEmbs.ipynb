{
 "cells": [
  {
   "cell_type": "code",
   "execution_count": 65,
   "id": "4fbaa617-fe18-4b18-954d-42cbbab94845",
   "metadata": {},
   "outputs": [],
   "source": [
    "from sentence_transformers import SentenceTransformer, util\n",
    "import pandas as pd\n",
    "import re"
   ]
  },
  {
   "cell_type": "code",
   "execution_count": 66,
   "id": "0b518af0-9f4c-4aa1-86a0-0ae9532adac5",
   "metadata": {},
   "outputs": [],
   "source": [
    "# one of the quicker pre-trained transformer models, although there are more accurate ones\n",
    "sbert_model = SentenceTransformer('all-MiniLM-L12-v2')"
   ]
  },
  {
   "cell_type": "code",
   "execution_count": 67,
   "id": "7963983a-c87b-46fc-8cbb-cc739fb85448",
   "metadata": {},
   "outputs": [
    {
     "data": {
      "text/html": [
       "<div>\n",
       "<style scoped>\n",
       "    .dataframe tbody tr th:only-of-type {\n",
       "        vertical-align: middle;\n",
       "    }\n",
       "\n",
       "    .dataframe tbody tr th {\n",
       "        vertical-align: top;\n",
       "    }\n",
       "\n",
       "    .dataframe thead th {\n",
       "        text-align: right;\n",
       "    }\n",
       "</style>\n",
       "<table border=\"1\" class=\"dataframe\">\n",
       "  <thead>\n",
       "    <tr style=\"text-align: right;\">\n",
       "      <th></th>\n",
       "      <th>0</th>\n",
       "      <th>words</th>\n",
       "    </tr>\n",
       "  </thead>\n",
       "  <tbody>\n",
       "    <tr>\n",
       "      <th>0</th>\n",
       "      <td>THE\\t23135851162</td>\n",
       "      <td>THE</td>\n",
       "    </tr>\n",
       "    <tr>\n",
       "      <th>1</th>\n",
       "      <td>OF\\t13151942776</td>\n",
       "      <td>OF</td>\n",
       "    </tr>\n",
       "    <tr>\n",
       "      <th>2</th>\n",
       "      <td>AND\\t12997637966</td>\n",
       "      <td>AND</td>\n",
       "    </tr>\n",
       "    <tr>\n",
       "      <th>3</th>\n",
       "      <td>TO\\t12136980858</td>\n",
       "      <td>TO</td>\n",
       "    </tr>\n",
       "    <tr>\n",
       "      <th>4</th>\n",
       "      <td>A\\t9081174698</td>\n",
       "      <td>A</td>\n",
       "    </tr>\n",
       "  </tbody>\n",
       "</table>\n",
       "</div>"
      ],
      "text/plain": [
       "                  0 words\n",
       "0  THE\\t23135851162   THE\n",
       "1   OF\\t13151942776    OF\n",
       "2  AND\\t12997637966   AND\n",
       "3   TO\\t12136980858    TO\n",
       "4     A\\t9081174698     A"
      ]
     },
     "execution_count": 67,
     "metadata": {},
     "output_type": "execute_result"
    }
   ],
   "source": [
    "# read in and clean file with top 100k words\n",
    "df = pd.read_csv(\"count_1w100k.txt\", header=None)\n",
    "df[\"words\"] = df[0].str.split(\"\\\\t\", expand=True)[0]\n",
    "df.head()"
   ]
  },
  {
   "cell_type": "code",
   "execution_count": 68,
   "id": "7b850117-622b-4bb4-a257-88c33cc55804",
   "metadata": {},
   "outputs": [],
   "source": [
    "# create list of words\n",
    "words = df[\"words\"].tolist()"
   ]
  },
  {
   "cell_type": "code",
   "execution_count": 69,
   "id": "861a86a2-ac9a-4eee-b550-250f2ea16790",
   "metadata": {},
   "outputs": [],
   "source": [
    "# TODO: limit file to only top x words if desired to limit file size of embedding file\n",
    "#words = words[0:20000]"
   ]
  },
  {
   "cell_type": "code",
   "execution_count": 70,
   "id": "abec4945-b1ba-496a-87a3-9247632bc440",
   "metadata": {},
   "outputs": [],
   "source": [
    "# clean words as prep for embeddings\n",
    "words = [str(word) for word in words]\n",
    "words = [word.lower() for word in words if len(word) > 2]\n",
    "p = re.compile(\"[.!?\\\\-]\")\n",
    "words = [word for word in words if not p.match(word)]"
   ]
  },
  {
   "cell_type": "code",
   "execution_count": 71,
   "id": "81d5fd36-5a38-4de4-b25c-68c7a5fa8034",
   "metadata": {},
   "outputs": [
    {
     "data": {
      "text/html": [
       "<div>\n",
       "<style scoped>\n",
       "    .dataframe tbody tr th:only-of-type {\n",
       "        vertical-align: middle;\n",
       "    }\n",
       "\n",
       "    .dataframe tbody tr th {\n",
       "        vertical-align: top;\n",
       "    }\n",
       "\n",
       "    .dataframe thead th {\n",
       "        text-align: right;\n",
       "    }\n",
       "</style>\n",
       "<table border=\"1\" class=\"dataframe\">\n",
       "  <thead>\n",
       "    <tr style=\"text-align: right;\">\n",
       "      <th></th>\n",
       "      <th>words</th>\n",
       "      <th>Embedding</th>\n",
       "    </tr>\n",
       "  </thead>\n",
       "  <tbody>\n",
       "    <tr>\n",
       "      <th>0</th>\n",
       "      <td>the</td>\n",
       "      <td>[-0.05535852909088135, 0.06034570187330246, 0....</td>\n",
       "    </tr>\n",
       "    <tr>\n",
       "      <th>1</th>\n",
       "      <td>and</td>\n",
       "      <td>[0.0064349789172410965, 0.03416347876191139, 0...</td>\n",
       "    </tr>\n",
       "    <tr>\n",
       "      <th>2</th>\n",
       "      <td>for</td>\n",
       "      <td>[-0.09993784129619598, 0.0073022376745939255, ...</td>\n",
       "    </tr>\n",
       "    <tr>\n",
       "      <th>3</th>\n",
       "      <td>that</td>\n",
       "      <td>[0.011291169561445713, 0.04566764459013939, 0....</td>\n",
       "    </tr>\n",
       "    <tr>\n",
       "      <th>4</th>\n",
       "      <td>this</td>\n",
       "      <td>[-0.04582986980676651, 0.027872908860445023, 0...</td>\n",
       "    </tr>\n",
       "  </tbody>\n",
       "</table>\n",
       "</div>"
      ],
      "text/plain": [
       "  words                                          Embedding\n",
       "0   the  [-0.05535852909088135, 0.06034570187330246, 0....\n",
       "1   and  [0.0064349789172410965, 0.03416347876191139, 0...\n",
       "2   for  [-0.09993784129619598, 0.0073022376745939255, ...\n",
       "3  that  [0.011291169561445713, 0.04566764459013939, 0....\n",
       "4  this  [-0.04582986980676651, 0.027872908860445023, 0..."
      ]
     },
     "execution_count": 71,
     "metadata": {},
     "output_type": "execute_result"
    }
   ],
   "source": [
    "embeddings = sbert_model.encode(words)\n",
    "df2 = pd.DataFrame({'words': words, 'Embedding': None})\n",
    "df2['Embedding'] = embeddings.tolist()\n",
    "df2.head()"
   ]
  },
  {
   "cell_type": "code",
   "execution_count": null,
   "id": "0167cc82-ef57-4265-8121-f0573d6557bc",
   "metadata": {},
   "outputs": [],
   "source": [
    "df2.to_pickle('words_pickle.pickle')"
   ]
  },
  {
   "cell_type": "code",
   "execution_count": 90,
   "id": "0d6f6b17-ece3-4da6-91a0-2983f192f583",
   "metadata": {},
   "outputs": [],
   "source": [
    "# reading in dataset with full set of words\n",
    "emb_df = pd.read_pickle('words_pickle.pickle')[['words', 'Embedding']]\n",
    "words = emb_df['words']\n",
    "\n",
    "# creating a smaller set of *popular* words to be used as the prompt words\n",
    "words_small = words[0:5000]"
   ]
  },
  {
   "cell_type": "code",
   "execution_count": 94,
   "id": "8e041135-01d2-4fb3-944e-4d982e3500fd",
   "metadata": {},
   "outputs": [],
   "source": [
    "rand_sample = random.sample(range(1, len(set(words_small))), 5)\n",
    "r1 = words_small[rand_sample[0]]\n",
    "r2 = words_small[rand_sample[1]]\n",
    "prompt_words = [r1, r2]"
   ]
  },
  {
   "cell_type": "code",
   "execution_count": 95,
   "id": "5f5aef59-43ed-49b2-b6a9-61d659e793a2",
   "metadata": {},
   "outputs": [],
   "source": [
    "input_words = [\"here\", \"there\", \"mom\", \"dad\"]\n",
    "input_words = [word.lower() for word in input_words]"
   ]
  },
  {
   "cell_type": "code",
   "execution_count": 100,
   "id": "848e4cdc-7890-4dfe-82c8-bdc2341fd3f6",
   "metadata": {},
   "outputs": [],
   "source": [
    "all_words = [prompt_words[0]] + input_words + [prompt_words[1]]"
   ]
  },
  {
   "cell_type": "code",
   "execution_count": 108,
   "id": "cd21a71d-fe3b-4170-b63a-6b3dde4f9036",
   "metadata": {},
   "outputs": [],
   "source": [
    "# create df that will serve as main df to join emb_df with\n",
    "df = pd.DataFrame(all_words).rename(columns = {0:'word'})\n",
    "df['word2'] = df['word'].shift(-1)\n",
    "df['word3'] = df['word'].shift(-2)\n",
    "df = df.iloc[0:4]"
   ]
  },
  {
   "cell_type": "code",
   "execution_count": 109,
   "id": "dd55403a-e4a2-4813-9d57-d5feb63e2e45",
   "metadata": {},
   "outputs": [],
   "source": [
    "# add embbeddings for input words onto dataset via joining\n",
    "df = df.merge(emb_df, left_on = \"word\", right_on = \"words\", how = \"left\").rename(columns = {\"Embedding\":\"word_embs\"}).drop(columns = {'words'})\n",
    "df = df.merge(emb_df, left_on = \"word2\", right_on = \"words\", how = \"left\").rename(columns = {\"Embedding\":\"word2_embs\"}).drop(columns = {'words'})\n",
    "df = df.merge(emb_df, left_on = \"word3\", right_on = \"words\", how = \"left\").rename(columns = {\"Embedding\":\"word3_embs\"}).drop(columns = {'words'})"
   ]
  },
  {
   "cell_type": "code",
   "execution_count": 110,
   "id": "d4e0cd0c-5d4c-4316-a819-79e4c2749e70",
   "metadata": {},
   "outputs": [
    {
     "data": {
      "text/html": [
       "<div>\n",
       "<style scoped>\n",
       "    .dataframe tbody tr th:only-of-type {\n",
       "        vertical-align: middle;\n",
       "    }\n",
       "\n",
       "    .dataframe tbody tr th {\n",
       "        vertical-align: top;\n",
       "    }\n",
       "\n",
       "    .dataframe thead th {\n",
       "        text-align: right;\n",
       "    }\n",
       "</style>\n",
       "<table border=\"1\" class=\"dataframe\">\n",
       "  <thead>\n",
       "    <tr style=\"text-align: right;\">\n",
       "      <th></th>\n",
       "      <th>word</th>\n",
       "      <th>word2</th>\n",
       "      <th>word3</th>\n",
       "      <th>word_embs</th>\n",
       "      <th>word2_embs</th>\n",
       "      <th>word3_embs</th>\n",
       "    </tr>\n",
       "  </thead>\n",
       "  <tbody>\n",
       "    <tr>\n",
       "      <th>0</th>\n",
       "      <td>characters</td>\n",
       "      <td>here</td>\n",
       "      <td>there</td>\n",
       "      <td>[-0.07646714150905609, 0.04853050038218498, 0....</td>\n",
       "      <td>[-0.018403148278594017, -0.03153776004910469, ...</td>\n",
       "      <td>[-0.020763833075761795, 0.007058394607156515, ...</td>\n",
       "    </tr>\n",
       "    <tr>\n",
       "      <th>1</th>\n",
       "      <td>here</td>\n",
       "      <td>there</td>\n",
       "      <td>mom</td>\n",
       "      <td>[-0.018403148278594017, -0.03153776004910469, ...</td>\n",
       "      <td>[-0.020763833075761795, 0.007058394607156515, ...</td>\n",
       "      <td>[-0.013820691034197807, -0.0153655419126153, 0...</td>\n",
       "    </tr>\n",
       "    <tr>\n",
       "      <th>2</th>\n",
       "      <td>there</td>\n",
       "      <td>mom</td>\n",
       "      <td>dad</td>\n",
       "      <td>[-0.020763833075761795, 0.007058394607156515, ...</td>\n",
       "      <td>[-0.013820691034197807, -0.0153655419126153, 0...</td>\n",
       "      <td>[-0.04803462326526642, 0.057016823440790176, 0...</td>\n",
       "    </tr>\n",
       "    <tr>\n",
       "      <th>3</th>\n",
       "      <td>mom</td>\n",
       "      <td>dad</td>\n",
       "      <td>muscle</td>\n",
       "      <td>[-0.013820691034197807, -0.0153655419126153, 0...</td>\n",
       "      <td>[-0.04803462326526642, 0.057016823440790176, 0...</td>\n",
       "      <td>[-0.06318749487400055, -0.059611767530441284, ...</td>\n",
       "    </tr>\n",
       "  </tbody>\n",
       "</table>\n",
       "</div>"
      ],
      "text/plain": [
       "         word  word2   word3  \\\n",
       "0  characters   here   there   \n",
       "1        here  there     mom   \n",
       "2       there    mom     dad   \n",
       "3         mom    dad  muscle   \n",
       "\n",
       "                                           word_embs  \\\n",
       "0  [-0.07646714150905609, 0.04853050038218498, 0....   \n",
       "1  [-0.018403148278594017, -0.03153776004910469, ...   \n",
       "2  [-0.020763833075761795, 0.007058394607156515, ...   \n",
       "3  [-0.013820691034197807, -0.0153655419126153, 0...   \n",
       "\n",
       "                                          word2_embs  \\\n",
       "0  [-0.018403148278594017, -0.03153776004910469, ...   \n",
       "1  [-0.020763833075761795, 0.007058394607156515, ...   \n",
       "2  [-0.013820691034197807, -0.0153655419126153, 0...   \n",
       "3  [-0.04803462326526642, 0.057016823440790176, 0...   \n",
       "\n",
       "                                          word3_embs  \n",
       "0  [-0.020763833075761795, 0.007058394607156515, ...  \n",
       "1  [-0.013820691034197807, -0.0153655419126153, 0...  \n",
       "2  [-0.04803462326526642, 0.057016823440790176, 0...  \n",
       "3  [-0.06318749487400055, -0.059611767530441284, ...  "
      ]
     },
     "execution_count": 110,
     "metadata": {},
     "output_type": "execute_result"
    }
   ],
   "source": [
    "df"
   ]
  },
  {
   "cell_type": "code",
   "execution_count": 88,
   "id": "ae53743c-a7ba-4a56-a707-081fed113c43",
   "metadata": {},
   "outputs": [
    {
     "data": {
      "text/plain": [
       "0.22855799"
      ]
     },
     "execution_count": 88,
     "metadata": {},
     "output_type": "execute_result"
    }
   ],
   "source": [
    "util.pytorch_cos_sim(df['input_embs'][i], df['word_embs'][i])[0].numpy().max()"
   ]
  },
  {
   "cell_type": "code",
   "execution_count": null,
   "id": "4c6f1309-a035-4474-a191-9d8ae155485a",
   "metadata": {},
   "outputs": [],
   "source": []
  }
 ],
 "metadata": {
  "kernelspec": {
   "display_name": "Python 3 (ipykernel)",
   "language": "python",
   "name": "python3"
  },
  "language_info": {
   "codemirror_mode": {
    "name": "ipython",
    "version": 3
   },
   "file_extension": ".py",
   "mimetype": "text/x-python",
   "name": "python",
   "nbconvert_exporter": "python",
   "pygments_lexer": "ipython3",
   "version": "3.9.13"
  }
 },
 "nbformat": 4,
 "nbformat_minor": 5
}
